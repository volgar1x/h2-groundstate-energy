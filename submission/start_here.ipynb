{
 "cells": [
  {
   "cell_type": "markdown",
   "metadata": {},
   "source": [
    "## Introduction\n",
    "\n",
    "The Variational Quantum Eigensolver (VQE) is a flagship algorithm for quantum chemistry\n",
    "using near-term quantum computers. It is an application of the\n",
    "[Ritz variational principle](https://en.wikipedia.org/wiki/Ritz_method>), where a quantum\n",
    "computer is trained to prepare the ground state of a given molecule.\n",
    "\n",
    "The inputs to the VQE algorithm are a molecular Hamiltonian and a\n",
    "parametrized circuit preparing the quantum state of the molecule. Within VQE, the\n",
    "cost function is defined as the expectation value of the Hamiltonian computed in the\n",
    "trial state. The ground state of the target Hamiltonian is obtained by performing an\n",
    "iterative minimization of the cost function. The optimization is carried out\n",
    "by a classical optimizer which leverages a quantum computer to evaluate the cost function\n",
    "and calculate its gradient at each optimization step.\n",
    "\n",
    "In this tutorial you will learn how to implement the VQE algorithm in a few lines of code.\n",
    "As an illustrative example, we use it to find the ground state of the hydrogen\n",
    "molecule, :math:`\\mathrm{H}_2`. First, we build the molecular Hamiltonian using a minimal\n",
    "basis set approximation. Next, we design the quantum circuit preparing the trial\n",
    "state of the molecule, and the cost function to evaluate the expectation value\n",
    "of the Hamiltonian. Finally, we select a classical optimizer, initialize the\n",
    "circuit parameters, and run the VQE algorithm using a PennyLane simulator.\n",
    "\n",
    "[The code and examples here are taken from Pennylane](https://github.com/PennyLaneAI/qml/blob/master/demonstrations/tutorial_vqe.py)"
   ]
  },
  {
   "cell_type": "markdown",
   "metadata": {},
   "source": [
    "## Let's get started!\n",
    "\n",
    "### Building the electronic Hamiltonian\n",
    "\n",
    "The first step is to specify the molecule we want to simulate. **aqora** provides you with this molecule in the form of an input. We mark the cell where the inputs are placed with the `parameters` tag"
   ]
  },
  {
   "cell_type": "code",
   "execution_count": 1,
   "metadata": {
    "tags": [
     "parameters"
    ]
   },
   "outputs": [],
   "source": [
    "input = \"\"\"2\n",
    "Sample H2 molecule\n",
    "H 0.3710 0.0 0.0\n",
    "H -0.3710 0.0 0.0\"\"\""
   ]
  },
  {
   "cell_type": "markdown",
   "metadata": {},
   "source": [
    "In chemistry we often use the [XYZ File Format](https://en.wikipedia.org/wiki/XYZ_file_format) which describes the location of atoms in a molecule. To make use of it in the code, we need to to parse it first"
   ]
  },
  {
   "cell_type": "code",
   "execution_count": 2,
   "metadata": {},
   "outputs": [
    {
     "data": {
      "text/plain": [
       "'Molecule { comment: \"Sample H2 molecule\", atoms: [Atom { symbol: \"H\", x: 0.3710, y: 0.0, z: 0.0 }, Atom { symbol: \"H\", x: -0.3710, y: 0.0, z: 0.0 }] }'"
      ]
     },
     "execution_count": 2,
     "metadata": {},
     "output_type": "execute_result"
    }
   ],
   "source": [
    "import xyz_parse\n",
    "molecule = xyz_parse.Molecule.parse(input)\n",
    "repr(molecule)"
   ]
  },
  {
   "cell_type": "markdown",
   "metadata": {},
   "source": [
    "Now, we can build the electronic Hamiltonian of the hydrogen molecule using the function `pennylane.qchem.molecular_hamiltonian` function."
   ]
  },
  {
   "cell_type": "code",
   "execution_count": 3,
   "metadata": {},
   "outputs": [
    {
     "name": "stdout",
     "output_type": "stream",
     "text": [
      "Number of qubits =  4\n",
      "The Hamiltonian is  -0.09963387941391993 * I(0) + 0.1711054512373633 * Z(0) + 0.17110545123736323 * Z(1) + 0.16859349595528597 * (Z(0) @ Z(1)) + -0.2225091423657487 * Z(2) + 0.1205102798953805 * (Z(0) @ Z(2)) + 0.16584090244108435 * (Z(1) @ Z(2)) + 0.045330622545703844 * (Y(0) @ X(1) @ X(2) @ Y(3)) + -0.045330622545703844 * (Y(0) @ Y(1) @ X(2) @ X(3)) + -0.045330622545703844 * (X(0) @ X(1) @ Y(2) @ Y(3)) + 0.045330622545703844 * (X(0) @ Y(1) @ Y(2) @ X(3)) + -0.2225091423657487 * Z(3) + 0.16584090244108435 * (Z(0) @ Z(3)) + 0.1205102798953805 * (Z(1) @ Z(3)) + 0.17432077259222362 * (Z(2) @ Z(3))\n"
     ]
    }
   ],
   "source": [
    "import pennylane as qml\n",
    "from pennylane import numpy as np\n",
    "\n",
    "# Setup hamiltonian\n",
    "H, qubits = qml.qchem.molecular_hamiltonian(\n",
    "    molecule.symbols,\n",
    "    # Factor of 1.88973 to convert Angstrom to Bohr\n",
    "    np.array(molecule.coordinates, dtype=np.float64) * 1.88973\n",
    ")\n",
    "print(\"Number of qubits = \", qubits)\n",
    "print(\"The Hamiltonian is \", H)"
   ]
  },
  {
   "cell_type": "markdown",
   "metadata": {},
   "source": [
    "The outputs of the function are the Hamiltonian, represented as\n",
    "a linear combination of Pauli operators, and the number of qubits\n",
    "required for the quantum simulations. For this example, we use a\n",
    "[minimal basis set](<https://en.wikipedia.org/wiki/STO-nG_basis_sets>)\n",
    "to represent the [molecular orbitals](https://en.wikipedia.org/wiki/Molecular_orbital>).\n",
    "In this approximation, we have four spin orbitals, which defines the\n",
    "number of qubits."
   ]
  },
  {
   "cell_type": "markdown",
   "metadata": {},
   "source": [
    "#### Implementing the VQE algorithm\n",
    "\n",
    "From here on, we can use PennyLane as usual, employing its entire stack of\n",
    "algorithms and optimizers. We begin by defining the device, in this case PennyLane’s\n",
    "standard qubit simulator:"
   ]
  },
  {
   "cell_type": "code",
   "execution_count": 4,
   "metadata": {},
   "outputs": [],
   "source": [
    "dev = qml.device(\"default.qubit\", wires=qubits)"
   ]
  },
  {
   "cell_type": "markdown",
   "metadata": {},
   "source": [
    "Next, we need to define the quantum circuit that prepares the trial state of the\n",
    "molecule. We want to prepare states of the form,\n",
    "\n",
    "$$\n",
    "    \\vert \\Psi(\\theta) \\rangle = \\cos(\\theta/2)~|1100\\rangle -\\sin(\\theta/2)~|0011\\rangle,\n",
    "$$\n",
    "\n",
    "where $\\theta$ is the variational parameter to be optimized in order to find\n",
    "the best approximation to the true ground state. In the Jordan-Wigner encoding,\n",
    "the first term $|1100\\rangle$ represents the [Hartree-Fock (HF) state](https://en.wikipedia.org/wiki/Hartree%E2%80%93Fock_method>)\n",
    "where the two electrons in\n",
    "the molecule occupy the lowest-energy orbitals. The second term $|0011\\rangle$\n",
    "encodes a double excitation of the HF state where the two particles are excited from\n",
    "qubits 0, 1 to 2, 3.\n",
    "\n",
    "The quantum circuit to prepare the trial state $\\vert \\Psi(\\theta) \\rangle$ is\n",
    "schematically illustrated in the figure below.\n",
    "\n",
    "\n",
    "In this figure, the gate $G^{(2)}$ corresponds to the\n",
    "`pennylane.DoubleExcitation` operation, implemented in PennyLane\n",
    "as a [Givens rotation](https://en.wikipedia.org/wiki/Givens_rotation>), which couples\n",
    "the four-qubit states $\\vert 1100 \\rangle$ and $\\vert 0011 \\rangle$.\n",
    "\n",
    "Implementing the circuit above using PennyLane is straightforward. First, we use the\n",
    "`hf_state` function to generate the vector representing the Hartree-Fock state."
   ]
  },
  {
   "cell_type": "code",
   "execution_count": 5,
   "metadata": {},
   "outputs": [
    {
     "name": "stdout",
     "output_type": "stream",
     "text": [
      "[1 1 0 0]\n"
     ]
    }
   ],
   "source": [
    "electrons = 2\n",
    "hf = qml.qchem.hf_state(electrons, qubits)\n",
    "print(hf)"
   ]
  },
  {
   "cell_type": "markdown",
   "metadata": {},
   "source": [
    "The `hf` array is used by the `pennylane.BasisState` operation to initialize\n",
    "the qubit register. Then, we just act with the `pennylane.DoubleExcitation` operation\n",
    "on the four qubits. The next step is to compute the expectation value\n",
    "of the molecular Hamiltonian in the trial state prepared by the circuit.\n",
    "We do this using the `expval` function. The decorator syntax allows us to\n",
    "run the cost function as an executable QNode with the gate parameter $\\theta$:"
   ]
  },
  {
   "cell_type": "code",
   "execution_count": 6,
   "metadata": {},
   "outputs": [],
   "source": [
    "@qml.qnode(dev)\n",
    "def circuit(param, wires):\n",
    "    qml.BasisState(hf, wires=wires)\n",
    "    qml.DoubleExcitation(param, wires=[0, 1, 2, 3])\n",
    "    return qml.expval(H)"
   ]
  },
  {
   "cell_type": "markdown",
   "metadata": {},
   "source": [
    "We can now define our error function simply as the expected value calculated above:"
   ]
  },
  {
   "cell_type": "code",
   "execution_count": 7,
   "metadata": {},
   "outputs": [],
   "source": [
    "def cost_fn(param):\n",
    "    return circuit(param, wires=range(qubits))"
   ]
  },
  {
   "cell_type": "markdown",
   "metadata": {},
   "source": [
    "We initialize the circuit parameter $\\theta$ to zero, meaning that we start\n",
    "from the Hartree-Fock state."
   ]
  },
  {
   "cell_type": "code",
   "execution_count": 8,
   "metadata": {},
   "outputs": [],
   "source": [
    "theta = np.array(np.pi / 2)"
   ]
  },
  {
   "cell_type": "markdown",
   "metadata": {},
   "source": [
    "Here we use a basic gradient-descent optimizer.\n",
    "We carry out the optimization over a maximum of 100 steps aiming to reach a\n",
    "convergence tolerance of $10^{-6}$ for the value of the cost function."
   ]
  },
  {
   "cell_type": "code",
   "execution_count": 9,
   "metadata": {},
   "outputs": [],
   "source": [
    "max_iterations = 5\n",
    "convergence_tolerance = 1e-06\n",
    "optimizer = qml.GradientDescentOptimizer(stepsize=0.01)"
   ]
  },
  {
   "cell_type": "markdown",
   "metadata": {},
   "source": [
    "And we run the algorithm!"
   ]
  },
  {
   "cell_type": "code",
   "execution_count": 10,
   "metadata": {},
   "outputs": [
    {
     "name": "stdout",
     "output_type": "stream",
     "text": [
      "Final value of the ground-state energy = -0.54146578 Ha\n",
      "Optimal value of the circuit parameter = 1.5316\n"
     ]
    }
   ],
   "source": [
    "for _ in range(max_iterations):\n",
    "    theta, prev_energy = optimizer.step_and_cost(cost_fn, theta)\n",
    "    energy = cost_fn(theta)\n",
    "    if np.abs(energy - prev_energy) <= convergence_tolerance:\n",
    "        break\n",
    "\n",
    "print(f\"Final value of the ground-state energy = {energy:.8f} Ha\")\n",
    "print(f\"Optimal value of the circuit parameter = {theta:.4f}\")"
   ]
  },
  {
   "cell_type": "markdown",
   "metadata": {},
   "source": [
    "To submit our results to **aqora** we need to set the output variable in our notebook"
   ]
  },
  {
   "cell_type": "code",
   "execution_count": null,
   "metadata": {},
   "outputs": [
    {
     "name": "stdout",
     "output_type": "stream",
     "text": [
      "-0.5414657821352816\n"
     ]
    }
   ],
   "source": [
    "output = float(energy)"
   ]
  },
  {
   "cell_type": "markdown",
   "metadata": {},
   "source": [
    "Congratulations!!!"
   ]
  }
 ],
 "metadata": {
  "kernelspec": {
   "display_name": ".venv",
   "language": "python",
   "name": "python3"
  },
  "language_info": {
   "codemirror_mode": {
    "name": "ipython",
    "version": 3
   },
   "file_extension": ".py",
   "mimetype": "text/x-python",
   "name": "python",
   "nbconvert_exporter": "python",
   "pygments_lexer": "ipython3",
   "version": "3.12.1"
  },
  "orig_nbformat": 4
 },
 "nbformat": 4,
 "nbformat_minor": 2
}
